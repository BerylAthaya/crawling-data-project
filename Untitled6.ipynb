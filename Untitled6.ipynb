{
 "cells": [
  {
   "cell_type": "code",
   "execution_count": 2,
   "id": "9a62c360",
   "metadata": {},
   "outputs": [],
   "source": [
    "import requests\n",
    "from bs4 import BeautifulSoup\n",
    "import pandas as pd"
   ]
  },
  {
   "cell_type": "code",
   "execution_count": 3,
   "id": "8b47174b",
   "metadata": {},
   "outputs": [],
   "source": [
    "# Mengirim permintaan HTTP GET ke URL IMDb\n",
    "url = \"https://www.imdb.com/chart/toptv\"\n",
    "response = requests.get(url)\n",
    "soup = BeautifulSoup(response.text, \"html.parser\")"
   ]
  },
  {
   "cell_type": "code",
   "execution_count": 4,
   "id": "6811c966",
   "metadata": {},
   "outputs": [],
   "source": [
    "# Menemukan elemen-elemen yang mengandung informasi film\n",
    "titles = soup.find_all(\"td\", class_=\"titleColumn\")\n",
    "ratings = soup.find_all(\"td\", class_=\"ratingColumn imdbRating\")"
   ]
  },
  {
   "cell_type": "code",
   "execution_count": 5,
   "id": "affad714",
   "metadata": {},
   "outputs": [],
   "source": [
    "# Melakukan scraping judul, tahun, dan rating film\n",
    "data = []\n",
    "for title, rating in zip(titles, ratings):\n",
    "    film_title = title.a.text\n",
    "    film_year = title.span.text.strip(\"()\")\n",
    "    film_rating = rating.strong.text\n",
    "    data.append([film_title, film_year, film_rating])"
   ]
  },
  {
   "cell_type": "code",
   "execution_count": 6,
   "id": "6fc898b2",
   "metadata": {},
   "outputs": [],
   "source": [
    "# Membuat dataframe dengan data yang di-scrape\n",
    "df = pd.DataFrame(data, columns=[\"Judul\", \"Tahun\", \"Rating\"])"
   ]
  },
  {
   "cell_type": "code",
   "execution_count": 9,
   "id": "91e813c4",
   "metadata": {},
   "outputs": [
    {
     "data": {
      "text/html": [
       "<div>\n",
       "<style scoped>\n",
       "    .dataframe tbody tr th:only-of-type {\n",
       "        vertical-align: middle;\n",
       "    }\n",
       "\n",
       "    .dataframe tbody tr th {\n",
       "        vertical-align: top;\n",
       "    }\n",
       "\n",
       "    .dataframe thead th {\n",
       "        text-align: right;\n",
       "    }\n",
       "</style>\n",
       "<table border=\"1\" class=\"dataframe\">\n",
       "  <thead>\n",
       "    <tr style=\"text-align: right;\">\n",
       "      <th></th>\n",
       "      <th>Judul</th>\n",
       "      <th>Tahun</th>\n",
       "      <th>Rating</th>\n",
       "    </tr>\n",
       "  </thead>\n",
       "  <tbody>\n",
       "    <tr>\n",
       "      <th>0</th>\n",
       "      <td>Planet Earth II</td>\n",
       "      <td>2016</td>\n",
       "      <td>9.4</td>\n",
       "    </tr>\n",
       "    <tr>\n",
       "      <th>1</th>\n",
       "      <td>Breaking Bad</td>\n",
       "      <td>2008</td>\n",
       "      <td>9.4</td>\n",
       "    </tr>\n",
       "    <tr>\n",
       "      <th>2</th>\n",
       "      <td>Planet Earth</td>\n",
       "      <td>2006</td>\n",
       "      <td>9.4</td>\n",
       "    </tr>\n",
       "    <tr>\n",
       "      <th>3</th>\n",
       "      <td>Band of Brothers</td>\n",
       "      <td>2001</td>\n",
       "      <td>9.4</td>\n",
       "    </tr>\n",
       "    <tr>\n",
       "      <th>4</th>\n",
       "      <td>Chernobyl</td>\n",
       "      <td>2019</td>\n",
       "      <td>9.3</td>\n",
       "    </tr>\n",
       "    <tr>\n",
       "      <th>...</th>\n",
       "      <td>...</td>\n",
       "      <td>...</td>\n",
       "      <td>...</td>\n",
       "    </tr>\n",
       "    <tr>\n",
       "      <th>245</th>\n",
       "      <td>Southland</td>\n",
       "      <td>2009</td>\n",
       "      <td>8.4</td>\n",
       "    </tr>\n",
       "    <tr>\n",
       "      <th>246</th>\n",
       "      <td>Foyle's War</td>\n",
       "      <td>2002</td>\n",
       "      <td>8.4</td>\n",
       "    </tr>\n",
       "    <tr>\n",
       "      <th>247</th>\n",
       "      <td>Kardes Payi</td>\n",
       "      <td>2014</td>\n",
       "      <td>8.4</td>\n",
       "    </tr>\n",
       "    <tr>\n",
       "      <th>248</th>\n",
       "      <td>Big Little Lies</td>\n",
       "      <td>2017</td>\n",
       "      <td>8.4</td>\n",
       "    </tr>\n",
       "    <tr>\n",
       "      <th>249</th>\n",
       "      <td>The Knick</td>\n",
       "      <td>2014</td>\n",
       "      <td>8.4</td>\n",
       "    </tr>\n",
       "  </tbody>\n",
       "</table>\n",
       "<p>250 rows × 3 columns</p>\n",
       "</div>"
      ],
      "text/plain": [
       "                Judul Tahun Rating\n",
       "0     Planet Earth II  2016    9.4\n",
       "1        Breaking Bad  2008    9.4\n",
       "2        Planet Earth  2006    9.4\n",
       "3    Band of Brothers  2001    9.4\n",
       "4           Chernobyl  2019    9.3\n",
       "..                ...   ...    ...\n",
       "245         Southland  2009    8.4\n",
       "246       Foyle's War  2002    8.4\n",
       "247       Kardes Payi  2014    8.4\n",
       "248   Big Little Lies  2017    8.4\n",
       "249         The Knick  2014    8.4\n",
       "\n",
       "[250 rows x 3 columns]"
      ]
     },
     "execution_count": 9,
     "metadata": {},
     "output_type": "execute_result"
    }
   ],
   "source": [
    "df "
   ]
  },
  {
   "cell_type": "code",
   "execution_count": 10,
   "id": "92edee4f",
   "metadata": {},
   "outputs": [
    {
     "name": "stdout",
     "output_type": "stream",
     "text": [
      "Data berhasil disimpan dalam file imdb_top_tv.xlsx\n"
     ]
    }
   ],
   "source": [
    "# Menyimpan dataframe ke dalam file Excel\n",
    "output_file = \"imdb_top_tv.xlsx\"\n",
    "df.to_excel(output_file, index=False)\n",
    "print(f\"Data berhasil disimpan dalam file {output_file}\")"
   ]
  },
  {
   "cell_type": "code",
   "execution_count": null,
   "id": "2358874b",
   "metadata": {},
   "outputs": [],
   "source": []
  }
 ],
 "metadata": {
  "kernelspec": {
   "display_name": "Python 3 (ipykernel)",
   "language": "python",
   "name": "python3"
  },
  "language_info": {
   "codemirror_mode": {
    "name": "ipython",
    "version": 3
   },
   "file_extension": ".py",
   "mimetype": "text/x-python",
   "name": "python",
   "nbconvert_exporter": "python",
   "pygments_lexer": "ipython3",
   "version": "3.10.9"
  }
 },
 "nbformat": 4,
 "nbformat_minor": 5
}
